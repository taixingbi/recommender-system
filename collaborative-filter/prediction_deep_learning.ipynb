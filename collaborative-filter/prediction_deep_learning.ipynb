{
 "cells": [
  {
   "cell_type": "code",
   "execution_count": 71,
   "metadata": {},
   "outputs": [
    {
     "name": "stdout",
     "output_type": "stream",
     "text": [
      "\n",
      "predict 1 sample:     user_id  item_id  rating  timestamp\n",
      "0      690      684       4  881179938\n",
      "predict time:  0:00:00.004388 h:m:s\n",
      "[[3.3598166]]\n",
      "\n",
      "predict 30 samples:     user_id  item_id  rating  timestamp\n",
      "0      690      684       4  881179938\n",
      "1      654      370       2  887863914\n",
      "2      279      992       4  889151559\n",
      "3      751       94       3  889298964\n",
      "4      625      121       3  891273698\n",
      "predict time:  0:00:00.004446 h:m:s\n",
      "[[3.359817 ]\n",
      " [2.4259267]\n",
      " [3.414638 ]\n",
      " [2.7969785]\n",
      " [3.0418262]\n",
      " [3.3664913]\n",
      " [2.791449 ]\n",
      " [4.461269 ]\n",
      " [3.8528042]\n",
      " [4.080868 ]\n",
      " [3.5975442]\n",
      " [3.496385 ]\n",
      " [3.041669 ]\n",
      " [2.4527092]\n",
      " [3.1981707]\n",
      " [3.6876917]\n",
      " [3.4723887]\n",
      " [4.6192293]\n",
      " [3.7356386]\n",
      " [4.027098 ]\n",
      " [4.233484 ]\n",
      " [3.4869738]\n",
      " [2.2302203]\n",
      " [3.0096307]\n",
      " [3.8525376]\n",
      " [3.1801658]\n",
      " [3.1000266]\n",
      " [3.9942951]\n",
      " [3.3018212]\n",
      " [3.4875836]]\n"
     ]
    }
   ],
   "source": [
    "import keras\n",
    "import numpy as np\n",
    "import pandas as pd\n",
    "import datetime\n",
    "import time\n",
    "\n",
    "from keras.models import load_model\n",
    "\n",
    "class PredictRating():\n",
    "    def __init__(self, path_load_model):\n",
    "        self.model = load_model(path_load_model)\n",
    "    \n",
    "    def predict(self, df_data):\n",
    "        y_pred= self.model.predict( [df_data.user_id, df_data.item_id] )\n",
    "        return y_pred\n",
    "\n",
    "if __name__ == \"__main__\":     \n",
    "    #random select 2 user-item data\n",
    "    test= pd.read_csv('pipenv/data/test.csv')\n",
    "    test1= test[:1]\n",
    "    test30= test[:30]\n",
    "    \n",
    "    #load pretrained model\n",
    "    path_load_model= 'pipenv/result/model.h5'\n",
    "    model= PredictRating( path_load_model ) \n",
    "    #the first pass is always long because the backends are allocating the memory and stuff like that.\n",
    "    pred_rating= model.predict(test1)\n",
    "\n",
    "    #start predict\n",
    "    print(\"\\npredict 1 sample: \", test1)   \n",
    "    start_time= datetime.datetime.now() \n",
    "    pred_rating= model.predict(test1)\n",
    "    print(\"predict time: \", (datetime.datetime.now()-start_time), \"h:m:s\")        \n",
    "    print( pred_rating )  \n",
    "    \n",
    "    print(\"\\npredict 30 samples: \", test30.head())   \n",
    "    start_time= datetime.datetime.now() \n",
    "    pred_rating= model.predict(test30)\n",
    "    print(\"predict time: \", (datetime.datetime.now()-start_time), \"h:m:s\")        \n",
    "    print( pred_rating )    "
   ]
  },
  {
   "cell_type": "code",
   "execution_count": null,
   "metadata": {},
   "outputs": [],
   "source": []
  },
  {
   "cell_type": "code",
   "execution_count": null,
   "metadata": {},
   "outputs": [],
   "source": []
  },
  {
   "cell_type": "code",
   "execution_count": null,
   "metadata": {},
   "outputs": [],
   "source": []
  }
 ],
 "metadata": {
  "kernelspec": {
   "display_name": "Python 3",
   "language": "python",
   "name": "python3"
  },
  "language_info": {
   "codemirror_mode": {
    "name": "ipython",
    "version": 3
   },
   "file_extension": ".py",
   "mimetype": "text/x-python",
   "name": "python",
   "nbconvert_exporter": "python",
   "pygments_lexer": "ipython3",
   "version": "3.6.5"
  }
 },
 "nbformat": 4,
 "nbformat_minor": 2
}
