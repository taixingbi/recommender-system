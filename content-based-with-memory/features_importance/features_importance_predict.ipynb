{
 "cells": [
  {
   "cell_type": "code",
   "execution_count": 4,
   "metadata": {},
   "outputs": [
    {
     "name": "stderr",
     "output_type": "stream",
     "text": [
      "/Users/hh/anaconda3/lib/python3.6/site-packages/ipykernel_launcher.py:20: FutureWarning: Method .as_matrix will be removed in a future version. Use .values instead.\n",
      "/Users/hh/anaconda3/lib/python3.6/site-packages/ipykernel_launcher.py:21: FutureWarning: Method .as_matrix will be removed in a future version. Use .values instead.\n"
     ]
    },
    {
     "data": {
      "text/plain": [
       "[(0.388, 'rent'),\n",
       " (0.3278, 'area'),\n",
       " (0.2066, 'pets'),\n",
       " (0.0302, 'is_commercial'),\n",
       " (0.0165, 'price'),\n",
       " (0.0114, 'num_rooms'),\n",
       " (0.0074, 'common_charges'),\n",
       " (0.0069, 'num_bedrooms'),\n",
       " (0.0031, 'is_furnished'),\n",
       " (0.002, 'num_bathrooms'),\n",
       " (0.0001, 'is_new_development'),\n",
       " (0.0, 'is_rental')]"
      ]
     },
     "execution_count": 4,
     "metadata": {},
     "output_type": "execute_result"
    }
   ],
   "source": [
    "from sklearn.datasets import load_boston\n",
    "from sklearn.ensemble import RandomForestRegressor\n",
    "import pandas as pd\n",
    "import numpy as np\n",
    "\n",
    "\"\"\"\n",
    "This is \"random forest regression\" for feature importance\n",
    "benifit:\n",
    "1. no overfitting\n",
    "2. it works even in siuation, where data contains a lot of nan value.\n",
    "3. it performs well in big data.\n",
    "\"\"\"\n",
    "class featuresImportanceRank():\n",
    "    def __init__(self, path_read_X, path_read_Y):\n",
    "        self.path_read_X= path_read_X\n",
    "        self.path_read_Y= path_read_Y\n",
    "    \n",
    "    def predict(self):\n",
    "        def read_df_data(path_df):\n",
    "            df= pd.read_csv(path_df, index_col = False)\n",
    "            return df\n",
    "        \n",
    "        def prepareXY(df):\n",
    "            features= df.columns.tolist()\n",
    "            features.remove('traffic')\n",
    "            df_X= df[features]\n",
    "            X= df_X.as_matrix().astype(int)\n",
    "            Y= df['traffic'].as_matrix().astype(int)\n",
    "            return X, Y, features  \n",
    "        \n",
    "        def predict_features_importance(X, Y, features):\n",
    "            rf = RandomForestRegressor()\n",
    "            rf.fit(X, Y)\n",
    "            rank= zip( map(lambda x: round(x, 4), rf.feature_importances_), features)\n",
    "            rank= sorted(rank, reverse=True)\n",
    "            return rank\n",
    "          \n",
    "        df= read_df_data( self.path_read_X )\n",
    "        df['traffic']= read_df_data( self.path_read_Y )\n",
    "        #print( df.head() )\n",
    "        X, Y, features= prepareXY(df)\n",
    "        rank= predict_features_importance(X, Y, features)\n",
    "        return rank\n",
    "\n",
    "path_read_X= 'data/X.csv'\n",
    "path_read_Y= 'data/Y.csv'    \n",
    "rank= featuresImportanceRank(path_read_X, path_read_Y).predict()\n",
    "rank"
   ]
  },
  {
   "cell_type": "code",
   "execution_count": null,
   "metadata": {},
   "outputs": [],
   "source": []
  },
  {
   "cell_type": "code",
   "execution_count": null,
   "metadata": {},
   "outputs": [],
   "source": []
  },
  {
   "cell_type": "code",
   "execution_count": null,
   "metadata": {},
   "outputs": [],
   "source": []
  },
  {
   "cell_type": "code",
   "execution_count": null,
   "metadata": {},
   "outputs": [],
   "source": []
  },
  {
   "cell_type": "code",
   "execution_count": null,
   "metadata": {},
   "outputs": [],
   "source": []
  },
  {
   "cell_type": "code",
   "execution_count": null,
   "metadata": {},
   "outputs": [],
   "source": []
  },
  {
   "cell_type": "code",
   "execution_count": null,
   "metadata": {},
   "outputs": [],
   "source": []
  },
  {
   "cell_type": "code",
   "execution_count": null,
   "metadata": {},
   "outputs": [],
   "source": []
  }
 ],
 "metadata": {
  "kernelspec": {
   "display_name": "Python 3",
   "language": "python",
   "name": "python3"
  },
  "language_info": {
   "codemirror_mode": {
    "name": "ipython",
    "version": 3
   },
   "file_extension": ".py",
   "mimetype": "text/x-python",
   "name": "python",
   "nbconvert_exporter": "python",
   "pygments_lexer": "ipython3",
   "version": "3.6.6"
  }
 },
 "nbformat": 4,
 "nbformat_minor": 2
}
